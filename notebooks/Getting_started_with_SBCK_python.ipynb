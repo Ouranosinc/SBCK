{
 "cells": [
  {
   "cell_type": "markdown",
   "metadata": {},
   "source": [
    "# Getting started with SBCK\n",
    "## Preprocessing\n",
    "### P.1 Packages"
   ]
  },
  {
   "cell_type": "code",
   "execution_count": 1,
   "metadata": {},
   "outputs": [],
   "source": [
    "import sys,os\n",
    "import pickle as pk\n",
    "\n",
    "## Scientific libraries\n",
    "##=====================\n",
    "import numpy as np\n",
    "import scipy.stats as sc\n",
    "import SBCK as bc\n",
    "import SBCK.metrics as bcm\n",
    "import SBCK.datasets as bcd\n",
    "import SBCK.tools as bct\n",
    "\n",
    "## Plot libraries\n",
    "##===============\n",
    "%matplotlib inline\n",
    "import matplotlib as mpl\n",
    "import matplotlib.pyplot as plt"
   ]
  },
  {
   "cell_type": "markdown",
   "metadata": {},
   "source": [
    "### P.2 Custom classes"
   ]
  },
  {
   "cell_type": "markdown",
   "metadata": {},
   "source": [
    "### P.3 Custom functions"
   ]
  },
  {
   "cell_type": "markdown",
   "metadata": {},
   "source": [
    "### P.4 Custom plot functions"
   ]
  },
  {
   "cell_type": "markdown",
   "metadata": {},
   "source": [
    "### P.5 Global parameters"
   ]
  },
  {
   "cell_type": "markdown",
   "metadata": {},
   "source": [
    "## I. Definition of bias correction\n",
    "\n",
    "Given two datasets $Y_0$ and $X_0$, called the *biased* and *reference* dataset, a *bias correction* is a method which transform the probability distribution of $X_0$ to the probability distribution of $Y_0$. Mathematically, a bias correction method is a map $\\mathcal{T}$ such that:\n",
    "- $Z_0 = \\mathcal{T}(X_0)$, the corrected dataset,\n",
    "- $\\mathbb{P}_{Z_0} = \\mathbb{P}_{Y_0}$, which follow the same law than $Y_0$,\n",
    "- $\\mathcal{T}(\\mathbb{P}_{X_0}) = \\mathbb{P}_{Y_0}$, transformed by $\\mathcal{T}$.\n",
    "\n",
    "This kind of methods are called a *stationary bias correction method*. Remark that this approach assumes that the probability distribution of $Y_0$ and $X_0$ do not change with time (the stationary assumption). Otherwise, some *non stationary bias correction method* learn how the BC is performed on a stationary part, and transform the method to other times."
   ]
  },
  {
   "cell_type": "markdown",
   "metadata": {},
   "source": [
    "## II. Univariate bias correction methods\n",
    "Univariate bias corrections can only correct univariate time series, without taking into account of the dependence structure between variables. In this section, the following dataset will be used:"
   ]
  },
  {
   "cell_type": "code",
   "execution_count": 11,
   "metadata": {},
   "outputs": [],
   "source": [
    "Y0,X0,X1 = bcd.gaussian_exp_mixture_1d(10000) ## From SBCK.datasets = bcd"
   ]
  },
  {
   "cell_type": "code",
   "execution_count": 14,
   "metadata": {
    "jupyter": {
     "source_hidden": true
    }
   },
   "outputs": [
    {
     "data": {
      "image/png": "[encoded data removed]",
      "text/plain": [
       "<Figure size 576x432 with 1 Axes>"
      ]
     },
     "metadata": {
      "needs_background": "light"
     },
     "output_type": "display_data"
    }
   ],
   "source": [
    "fig = plt.figure( figsize = (8,6) )\n",
    "\n",
    "ax   = fig.add_subplot( 1 , 1 , 1 )\n",
    "bins = np.linspace( min([T.min() for T in [Y0,X0,X1]]) , max([T.max() for T in [Y0,X0,X1]]) , 50 )\n",
    "kwargs = { \"bins\" : bins , \"alpha\" : 0.5 , \"density\" : True }\n",
    "ax.hist( Y0 , color = \"blue\"   , label = r\"$Y_0$\" , **kwargs )\n",
    "ax.hist( X0 , color = \"red\"    , label = r\"$X_0$\" , **kwargs )\n",
    "ax.hist( X1 , color = \"orange\" , label = r\"$X_1$\" , **kwargs )\n",
    "ax.set_xlabel( \"Values\" )\n",
    "ax.set_ylabel( \"Density\" )\n",
    "ax.legend()\n",
    "plt.show()"
   ]
  },
  {
   "cell_type": "markdown",
   "metadata": {},
   "source": [
    "The hypothesis are that $Y_0$ is our \"reference\", $X_0$ is the model during calibraiton period, and $X_1$ the model during projection period."
   ]
  },
  {
   "cell_type": "markdown",
   "metadata": {},
   "source": [
    "### II.1 Stationary context: the quantile mapping\n",
    "\n",
    "The quantile mapping method use a quantile-quantile map to perform the correction. Noting $F_{Y_0}$ the Cumulative Distribution Function (CDF) of $Y_0$ and $F_{X_0}$ the CDF of $X_0$, the QM method is defined as follow:\n",
    "\n",
    "$$\\mathcal{T} = F_{Y_0}^{-1}\\circ F_{X_0}$$\n",
    "\n",
    "This method is implemented in the class `SBCK.QM`. Without assumption, the empirical CDF is used:"
   ]
  },
  {
   "cell_type": "code",
   "execution_count": 21,
   "metadata": {},
   "outputs": [],
   "source": [
    "qm = bc.QM()\n",
    "qm.fit( Y0 , X0 )\n",
    "Z0_e = qm.predict(X0) ## (e for empirical)"
   ]
  },
  {
   "cell_type": "markdown",
   "metadata": {},
   "source": [
    "We can also assume that $X_0$ follow a normal law, the coefficients are fitted by `QM`:"
   ]
  },
  {
   "cell_type": "code",
   "execution_count": 22,
   "metadata": {},
   "outputs": [],
   "source": [
    "qm = bc.QM( distX0 = sc.norm )\n",
    "qm.fit( Y0 , X0 )\n",
    "Z0_nf = qm.predict(X0) ## (nf for Normal Fitted)"
   ]
  },
  {
   "cell_type": "markdown",
   "metadata": {},
   "source": [
    "Or give exactly the law of $X_0$:"
   ]
  },
  {
   "cell_type": "code",
   "execution_count": 25,
   "metadata": {},
   "outputs": [],
   "source": [
    "qm = bc.QM( distX0 = sc.norm( loc = 7 , scale = 1. ) )\n",
    "qm.fit( Y0 , X0 )\n",
    "Z0_g = qm.predict(X0) ## (g for given)"
   ]
  },
  {
   "cell_type": "markdown",
   "metadata": {},
   "source": [
    "A visual check show the good performance of the correction:"
   ]
  },
  {
   "cell_type": "code",
   "execution_count": 33,
   "metadata": {
    "jupyter": {
     "source_hidden": true
    }
   },
   "outputs": [
    {
     "data": {
      "image/png": "[encoded data removed]",
      "text/plain": [
       "<Figure size 864x576 with 4 Axes>"
      ]
     },
     "metadata": {
      "needs_background": "light"
     },
     "output_type": "display_data"
    }
   ],
   "source": [
    "fig = plt.figure( figsize = (12,8) )\n",
    "\n",
    "bins = np.linspace( min([T.min() for T in [Y0,X0,X1,Z0_e,Z0_nf,Z0_g]]) , max([T.max() for T in [Y0,X0,X1]]) , 50 )\n",
    "label = [ r\"$Y_0$\" , r\"$Z_0$ (emp.)\" , r\"$Z_0$ (nf)\" , r\"$Z_0$ (g)\" ]\n",
    "color = [\"blue\",\"green\",\"green\",\"green\"]\n",
    "kwargs = { \"bins\" : bins , \"alpha\" : 0.5 , \"density\" : True }\n",
    "for i,Z in enumerate([Y0,Z0_e,Z0_nf,Z0_g]):\n",
    "\tax   = fig.add_subplot( 2 , 2 , i + 1 )\n",
    "\tax.hist( Z  , color = color[i] , label = label[i] , **kwargs )\n",
    "\tax.set_xlabel( \"Values\" )\n",
    "\tax.set_ylabel( \"Density\" )\n",
    "\tax.legend()\n",
    "plt.show()"
   ]
  },
  {
   "cell_type": "markdown",
   "metadata": {},
   "source": [
    "Obviously, this method can not be used to correction $X_1$, because the distribution has changed with time. This is the goal of CDFt or QDM."
   ]
  },
  {
   "cell_type": "markdown",
   "metadata": {},
   "source": [
    "### II.2 Extension: CDFt method\n",
    "\n",
    "Using quantile mapping, we have the following transformation:\n",
    "\n",
    "- From $X_0$ to $X_1$ : $\\mathcal{T}_{X} = F_{X_1}^{-1}\\circ F_{X_0}$, the dynamic of the biased dataset,\n",
    "- From $Y_0$ to $Y_1$ : $\\mathcal{T}_{Y} = F_{Y_1}^{-1}\\circ F_{Y_0}$, the dynamic of the reference,\n",
    "- From $X_0$ to $Y_0$ : $\\mathcal{T}_{XY} = F_{Y_0}^{-1}\\circ F_{X_0}$, the bias between biased and reference dataset.\n",
    "\n",
    "The method CDFt assume than the dynamic of the biased dataset and the reference are the same, i.e.:\n",
    "\n",
    "$$\\mathcal{T}_{X} = F_{X_1}^{-1}\\circ F_{X_0}=F_{Y_1}^{-1}\\circ F_{Y_0} = \\mathcal{T}_{Y}$$\n",
    "\n",
    "By re-arranging the CDF, we find the CDF of $Y_1$:\n",
    "\n",
    "$$F_{Y_1} = F_{Y_0} \\circ F_{X_0}^{-1} \\circ F_{X_1}$$\n",
    "\n",
    "And the correction of $X_1$ is given by:\n",
    "\n",
    "$$\n",
    "\\begin{aligned}\n",
    "Z_1 &= (F_{Y_1}^{-1}\\circ F_{X_1})(X_1)\\\\\n",
    "&= ( (F_{Y_0} \\circ F_{X_0}^{-1} \\circ F_{X_1})^{-1} \\circ F_{X_1})(X_1)\\\\\n",
    "&= ( F_{X_1}^{-1} \\circ F_{X_0} \\circ F_{Y_0}^{-1} \\circ F_{X_1})(X_1)\n",
    "\\end{aligned}\n",
    "$$"
   ]
  },
  {
   "cell_type": "code",
   "execution_count": null,
   "metadata": {},
   "outputs": [],
   "source": []
  },
  {
   "cell_type": "markdown",
   "metadata": {},
   "source": [
    "### II.3 Extension: QDM method"
   ]
  },
  {
   "cell_type": "code",
   "execution_count": null,
   "metadata": {},
   "outputs": [],
   "source": []
  }
 ],
 "metadata": {
  "kernelspec": {
   "display_name": "Python 3",
   "language": "python",
   "name": "python3"
  },
  "language_info": {
   "codemirror_mode": {
    "name": "ipython",
    "version": 3
   },
   "file_extension": ".py",
   "mimetype": "text/x-python",
   "name": "python",
   "nbconvert_exporter": "python",
   "pygments_lexer": "ipython3",
   "version": "3.7.3"
  }
 },
 "nbformat": 4,
 "nbformat_minor": 4
}
